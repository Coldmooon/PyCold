{
 "cells": [
  {
   "cell_type": "code",
   "execution_count": 1,
   "metadata": {
    "collapsed": false,
    "deletable": true,
    "editable": true
   },
   "outputs": [],
   "source": [
    "npy4th = require 'npy4th'"
   ]
  },
  {
   "cell_type": "code",
   "execution_count": 3,
   "metadata": {
    "collapsed": true,
    "deletable": true,
    "editable": true
   },
   "outputs": [],
   "source": [
    "-- Mnist trans datasets\n",
    "train_trans = npy4th.loadnpy('/home/coldmoon/Developer/PyCold/datasets/train_transformed.npy')\n",
    "train_center = npy4th.loadnpy('/home/coldmoon/Developer/PyCold/datasets/train_center_only.npy')\n",
    "train_rand = npy4th.loadnpy('/home/coldmoon/Developer/PyCold/datasets/train_rand_placed.npy')\n",
    "train_label = npy4th.loadnpy('/home/coldmoon/Developer/PyCold/datasets/train_labels.npy')\n",
    "train_label = train_label + 1\n",
    "\n",
    "test = npy4th.loadnpy('/home/coldmoon/Developer/PyCold/datasets/test_data.npy')\n",
    "test_label = npy4th.loadnpy('/home/coldmoon/Developer/PyCold/datasets/test_labels.npy')\n",
    "test_label = test_label + 1"
   ]
  },
  {
   "cell_type": "code",
   "execution_count": 2,
   "metadata": {
    "collapsed": false,
    "deletable": true,
    "editable": true
   },
   "outputs": [],
   "source": [
    "-- ISBI 2012 Seg dataset\n",
    "train_dataset = npy4th.loadnpy('/home/coldmoon/Developer/PyCold/datasets/train_dataset.npy')\n",
    "train_labels = npy4th.loadnpy('/home/coldmoon/Developer/PyCold/datasets/train_labels.npy')\n",
    "test_dataset = npy4th.loadnpy('/home/coldmoon/Developer/PyCold/datasets/test_dataset.npy')\n",
    "test_labels = npy4th.loadnpy('/home/coldmoon/Developer/PyCold/datasets/test_labels.npy')\n",
    "\n",
    "train_labels = train_labels + 2\n",
    "test_labels = test_labels + 2"
   ]
  },
  {
   "cell_type": "code",
   "execution_count": 3,
   "metadata": {
    "collapsed": true,
    "deletable": true,
    "editable": true
   },
   "outputs": [],
   "source": [
    "trainData = {data = train_dataset, labels = train_labels}\n",
    "valData = { data = test_dataset, labels = test_labels}\n",
    "torch.save('./isbi2012seg.t7', {train = trainData, val= valData})\n",
    "\n",
    "-- trainData = { data = train_center, labels = train_label}\n",
    "-- torch.save('./mnist_train_center_test_ST_0.7_1.33.t7', {train = trainData, val= valData})\n",
    "\n",
    "-- trainData = { data = train_rand, labels = train_label}\n",
    "-- torch.save('./mnist_train_rand_test_ST_0.7_1.33.t7', {train = trainData, val= valData})"
   ]
  }
 ],
 "metadata": {
  "kernelspec": {
   "display_name": "iTorch",
   "language": "lua",
   "name": "itorch"
  },
  "language_info": {
   "name": "lua",
   "version": "5.1"
  }
 },
 "nbformat": 4,
 "nbformat_minor": 0
}
