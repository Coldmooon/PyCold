{
 "cells": [
  {
   "cell_type": "code",
   "execution_count": 1,
   "metadata": {},
   "outputs": [
    {
     "data": {
      "text/plain": [
       "{\n",
       "  yuv2rgb : function: 0x4156a328\n",
       "  rotate : function: 0x4176b088\n",
       "  jetColormap : function: 0x4016b568\n",
       "  savePNG : function: 0x4176b000\n",
       "  savePGM : function: 0x415f64e0\n",
       "  hflip : function: 0x4016b6f0\n",
       "  fabio : function: 0x4156a2e0\n",
       "  translate : function: 0x4176b148\n",
       "  supported_filetypes : \n",
       "    {\n",
       "      pgm : \n",
       "        {\n",
       "          loader : function: 0x415f64b8\n",
       "          sizer : function: 0x415f6500\n",
       "          saver : function: 0x415f64e0\n",
       "        }\n",
       "      JPEG : \n",
       "        {\n",
       "          loader : function: 0x4176b250\n",
       "          sizer : function: 0x4176b2e0\n",
       "          saver : function: 0x4176b2c0\n",
       "        }\n",
       "      JPG : \n",
       "        {\n",
       "          loader : function: 0x4176b250\n",
       "          sizer : function: 0x4176b2e0\n",
       "          saver : function: 0x4176b2c0\n",
       "        }\n",
       "      jpg : \n",
       "        {\n",
       "          loader : function: 0x4176b250\n",
       "          sizer : function: 0x4176b2e0\n",
       "          saver : function: 0x4176b2c0\n",
       "        }\n",
       "      png : \n",
       "        {\n",
       "          loader : function: 0x4176af78\n",
       "          sizer : function: 0x4176b068\n",
       "          saver : function: 0x4176b000\n",
       "        }\n",
       "      ppm : \n",
       "        {\n",
       "          loader : function: 0x415f64b8\n",
       "          sizer : function: 0x415f6500\n",
       "          saver : function: 0x4176b320\n",
       "        }\n",
       "      jpeg : \n",
       "        {\n",
       "          loader : function: 0x4176b250\n",
       "          sizer : function: 0x4176b2e0\n",
       "          saver : function: 0x4176b2c0\n",
       "        }\n",
       "      PNG : \n",
       "        {\n",
       "          loader : function: 0x4176af78\n",
       "          sizer : function: 0x4176b068\n",
       "          saver : function: 0x4176b000\n",
       "        }\n",
       "      PGM : \n",
       "        {\n",
       "          loader : function: 0x415f64b8\n",
       "          sizer : function: 0x415f6500\n",
       "          saver : function: 0x415f64e0\n",
       "        }\n",
       "      PPM : \n",
       "        {\n",
       "          loader : function: 0x415f64b8\n",
       "          sizer : function: 0x415f6500\n",
       "          saver : function: 0x4176b320\n",
       "        }\n",
       "    }\n",
       "  lcn : function: 0x4016b588\n",
       "  getPNGsize : function: 0x4176b068\n",
       "  float : \n",
       "    {\n",
       "      scaleBicubic : function: 0x410737a8\n",
       "      rotate : function: 0x41073838\n",
       "      text : function: 0x41070d40\n",
       "      scaleBilinear : function: 0x41073780\n",
       "      rotateBilinear : function: 0x41073860\n",
       "      translate : function: 0x41070db0\n",
       "      drawRect : function: 0x41070d68\n",
       "      lab2rgb : function: 0x41070c50\n",
       "      colorize : function: 0x41070d18\n",
       "      polar : function: 0x41073888\n",
       "      saturate : function: 0x410737f8\n",
       "      logPolar : function: 0x41070bd8\n",
       "      hflip : function: 0x41070cc8\n",
       "      cropNoScale : function: 0x41073748\n",
       "      vflip : function: 0x41070ca0\n",
       "      warp : function: 0x410737d0\n",
       "      hsv2rgb : function: 0x41070b60\n",
       "      rgb2lab : function: 0x41070c28\n",
       "      rgb2hsl : function: 0x41070b38\n",
       "      hsl2rgb : function: 0x41070b88\n",
       "      gaussian : function: 0x41070c78\n",
       "      rgb2hsv : function: 0x41070b10\n",
       "      polarBilinear : function: 0x41070bb0\n",
       "      rgb2y : function: 0x41070ae8\n",
       "      logPolarBilinear : function: 0x41070c00\n",
       "      scaleSimple : function: 0x41073720\n",
       "      flip : function: 0x41070cf0\n",
       "    }\n",
       "  erode : function: 0x4016b5a8\n",
       "  crop : function: 0x4016bab8\n",
       "  polar : function: 0x4016b670\n",
       "  rgb2hsl : function: 0x4016b388\n",
       "  getSize : function: 0x4176b1a8\n",
       "  getJPGsize : function: 0x4176b2e0\n",
       "  test : function: 0x415dd3a0\n",
       "  laplacian : function: 0x4016b508\n",
       "  warp : function: 0x4016b6b0\n",
       "  gaussian1D : function: 0x4016b4e8\n",
       "  minmax : function: 0x4156a1f8\n",
       "  loadJPG : function: 0x4176b250\n",
       "  loadPPM : function: 0x415f64b8\n",
       "  gaussian : function: 0x4016b4c8\n",
       "  vflip : function: 0x4016b710\n",
       "  rgb2yuv : function: 0x4156a308\n",
       "  rgb2y : function: 0x4016b368\n",
       "  window : function: 0x4156a258\n",
       "  hsv2rgb : function: 0x4016b3e8\n",
       "  gaussianpyramid : function: 0x4016b528\n",
       "  rgb2nrgb : function: 0x4016b448\n",
       "  loadPNG : function: 0x4176af78\n",
       "  double : \n",
       "    {\n",
       "      scaleBicubic : function: 0x4157cbb0\n",
       "      rotate : function: 0x4157cc40\n",
       "      text : function: 0x41073670\n",
       "      scaleBilinear : function: 0x4157cb88\n",
       "      rotateBilinear : function: 0x4157cc68\n",
       "      translate : function: 0x4157cdf8\n",
       "      drawRect : function: 0x41073698\n",
       "      lab2rgb : function: 0x4157cd30\n",
       "  "
      ]
     },
     "execution_count": 1,
     "metadata": {},
     "output_type": "execute_result"
    },
    {
     "data": {
      "text/plain": [
       "    colorize : function: 0x41073648\n",
       "      polar : function: 0x4157cd58\n",
       "      saturate : function: 0x4157f300\n",
       "      logPolar : function: 0x4157cda8\n",
       "      hflip : function: 0x410735f8\n",
       "      cropNoScale : function: 0x4157ce20\n",
       "      vflip : function: 0x410735d0\n",
       "      warp : function: 0x4157ce48\n",
       "      hsv2rgb : function: 0x4157ccb8\n",
       "      rgb2lab : function: 0x4157cd08\n",
       "      rgb2hsl : function: 0x4157cc90\n",
       "      hsl2rgb : function: 0x4157cce0\n",
       "      gaussian : function: 0x410735a8\n",
       "      rgb2hsv : function: 0x4157cc00\n",
       "      polarBilinear : function: 0x4157cd80\n",
       "      rgb2y : function: 0x4157cbd8\n",
       "      logPolarBilinear : function: 0x4157cdd0\n",
       "      scaleSimple : function: 0x4157f2d8\n",
       "      flip : function: 0x41073620\n",
       "    }\n",
       "  rgb2lab : function: 0x4016b408\n",
       "  decompressPNG : function: 0x4176b040\n",
       "  savePPM : function: 0x4176b320\n",
       "  compressJPG : function: 0x4176b300\n",
       "  y2jet : function: 0x4016b468\n",
       "  decompress : function: 0x4176ae08\n",
       "  drawRect : function: 0x4016b4a8\n",
       "  hsl2rgb : function: 0x4016b3a8\n",
       "  lab2rgb : function: 0x4016b428\n",
       "  save : function: 0x4016ba98\n",
       "  drawText : function: 0x4016b488\n",
       "  is_supported : function: 0x4016b8c0\n",
       "  display : function: 0x4156a238\n",
       "  load : function: 0x4176b1e0\n",
       "  toDisplayTensor : function: 0x4156a218\n",
       "  logpolar : function: 0x4016b690\n",
       "  convolve : function: 0x4156a1d8\n",
       "  scale : function: 0x4176b0e8\n",
       "  dilate : function: 0x4016b5c8\n",
       "  getPPMsize : function: 0x415f6500\n",
       "  decompressJPG : function: 0x4176b298\n",
       "  saveJPG : function: 0x4176b2c0\n",
       "  byte : \n",
       "    {\n",
       "      scaleBicubic : function: 0x41068af8\n",
       "      rotate : function: 0x41068b88\n",
       "      text : function: 0x415f6468\n",
       "      scaleBilinear : function: 0x41068ad0\n",
       "      rotateBilinear : function: 0x41068bb0\n",
       "      translate : function: 0x41068a98\n",
       "      drawRect : function: 0x415f6490\n",
       "      lab2rgb : function: 0x415f6378\n",
       "      colorize : function: 0x415f6440\n",
       "      polar : function: 0x41068ca0\n",
       "      saturate : function: 0x41068bd8\n",
       "      logPolar : function: 0x41068cf0\n",
       "      hflip : function: 0x415f63f0\n",
       "      cropNoScale : function: 0x41068b20\n",
       "      vflip : function: 0x415f63c8\n",
       "      warp : function: 0x41068b48\n",
       "      hsv2rgb : function: 0x41068c78\n",
       "      rgb2lab : function: 0x415f6350\n",
       "      rgb2hsl : function: 0x41068c50\n",
       "      hsl2rgb : function: 0x415f6328\n",
       "      gaussian : function: 0x415f63a0\n",
       "      rgb2hsv : function: 0x41068c28\n",
       "      polarBilinear : function: 0x41068cc8\n",
       "      rgb2y : function: 0x41068c00\n",
       "      logPolarBilinear : function: 0x41068d18\n",
       "      scaleSimple : function: 0x41068a70\n",
       "      flip : function: 0x415f6418\n",
       "    }\n",
       "  rgb2hsv : function: 0x4016b3c8\n",
       "  compressPNG : function: 0x4176b210\n",
       "  affinetransform : function: 0x4016b6d0\n",
       "  lena : function: 0x4156a298\n",
       "  colormap : function: 0x4016b548\n",
       "  flip : function: 0x4156a1b8\n",
       "}\n"
      ]
     },
     "execution_count": 1,
     "metadata": {},
     "output_type": "execute_result"
    }
   ],
   "source": [
    "require 'image'"
   ]
  },
  {
   "cell_type": "code",
   "execution_count": 2,
   "metadata": {
    "collapsed": true
   },
   "outputs": [],
   "source": [
    "function load_rotated_mnist(file_name, count)\n",
    "  local loaded_data = {}\n",
    "  for line in io.lines(file_name) do\n",
    "    local chunks = {}\n",
    "    for w in line:gmatch(\"%S+\") do chunks[#chunks + 1] = tonumber(w) end\n",
    "    loaded_data[#loaded_data + 1] = chunks\n",
    "  end\n",
    "  local loaded_data = torch.Tensor(loaded_data)\n",
    "  local data = {}\n",
    "  data.data = loaded_data[{{1, count}, {1, -2}}]\n",
    "  data.labels = loaded_data[{{1, count}, {-1, -1}}]\n",
    "  local shuffled_indices = torch.randperm(data.data:size(1)):long()\n",
    "  data.data = data.data:index(1, shuffled_indices)\n",
    "  data.labels = data.labels:index(1, shuffled_indices)\n",
    "  data.labels:add(1)\n",
    "  local real_size = math.sqrt(data.data:size(2))\n",
    "  data.data = data.data:reshape(data.data:size(1), 1, real_size, real_size)\n",
    "  print('--------------------------------')\n",
    "  print('inputs', data.data:size())\n",
    "  print('targets', data.labels:size())\n",
    "  print('min target', data.labels:min())\n",
    "  print('max target', data.labels:max())\n",
    "  print('--------------------------------')\n",
    "  return data\n",
    "end"
   ]
  },
  {
   "cell_type": "code",
   "execution_count": 3,
   "metadata": {},
   "outputs": [
    {
     "data": {
      "text/plain": [
       "--------------------------------\t\n",
       "inputs\t 100\n",
       "   1\n",
       "  28\n",
       "  28\n",
       "[torch.LongStorage of size 4]\n",
       "\n",
       "targets\t 100\n",
       "   1\n",
       "[torch.LongStorage of size 2]\n",
       "\n",
       "min target\t1\t\n",
       "max target\t10\t\n",
       "--------------------------------\t\n"
      ]
     },
     "execution_count": 3,
     "metadata": {},
     "output_type": "execute_result"
    },
    {
     "data": {
      "text/plain": [
       "--------------------------------\t\n",
       "inputs\t 100\n",
       "   1\n",
       "  28\n",
       "  28\n",
       "[torch.LongStorage of size 4]\n",
       "\n",
       "targets\t 100\n",
       "   1\n",
       "[torch.LongStorage of size 2]\n",
       "\n",
       "min target\t1\t\n",
       "max target\t10\t\n",
       "--------------------------------\t\n"
      ]
     },
     "execution_count": 3,
     "metadata": {},
     "output_type": "execute_result"
    }
   ],
   "source": [
    "train_file = 'mnist_all_rotation_normalized_float_train_valid.amat'\n",
    "test_file = 'mnist_all_rotation_normalized_float_test.amat'\n",
    "train = load_rotated_mnist(train_file, 100)\n",
    "test = load_rotated_mnist(test_file, 100)\n",
    "\n",
    "train_data = train.data\n",
    "test_data = test.data"
   ]
  },
  {
   "cell_type": "code",
   "execution_count": 2,
   "metadata": {
    "scrolled": true
   },
   "outputs": [
    {
     "data": {
      "text/plain": [
       "{\n",
       "  train : \n",
       "    {\n",
       "      data : ByteTensor - size: 60000x1x42x42\n",
       "      labels : LongTensor - size: 60000\n",
       "    }\n",
       "  val : \n",
       "    {\n",
       "      data : ByteTensor - size: 10000x1x42x42\n",
       "      labels : LongTensor - size: 10000\n",
       "    }\n",
       "}\n"
      ]
     },
     "execution_count": 2,
     "metadata": {},
     "output_type": "execute_result"
    }
   ],
   "source": [
    "-- datasets = 'cifar10_train_center_test_scaled_16_48.t7'\n",
    "-- datasets = '/home/coldmoon/Developer/fb.resnet.torch/gen/mnist42x42_train_center_test_ST_0.7_1.2.t7'\n",
    "-- datasets = '/home/coldmoon/Datasets/GTSRB/gtsrb48x48.t7'\n",
    "-- datasets = '/home/coldmoon/Datasets/GTSRB/gtsrb64x64.t7'\n",
    "datasets = '/home/coldmoon/Datasets/MNIST/RTS/STN-RTS.t7'\n",
    "data = torch.load(datasets)\n",
    "print(data)"
   ]
  },
  {
   "cell_type": "code",
   "execution_count": 3,
   "metadata": {},
   "outputs": [
    {
     "data": {
      "text/plain": [
       "{\n",
       "  data : ByteTensor - size: 60000x1x42x42\n",
       "  labels : LongTensor - size: 60000\n",
       "}\n",
       "{\n",
       "  data : ByteTensor - size: 10000x1x42x42\n",
       "  labels : LongTensor - size: 10000\n",
       "}\n"
      ]
     },
     "execution_count": 3,
     "metadata": {},
     "output_type": "execute_result"
    }
   ],
   "source": [
    "train = data['train']\n",
    "test = data['val']\n",
    "train_data = train['data']\n",
    "test_data =test['data']\n",
    "print(train)\n",
    "print(test)"
   ]
  },
  {
   "cell_type": "code",
   "execution_count": 8,
   "metadata": {},
   "outputs": [
    {
     "ename": "bad argument #2 to '?' (out of range at /home/coldmoon/Developer/torch/pkg/torch/generic/Tensor.c:913)\nstack traceback:\n\t[C]: at 0x7f6dac702170\n\t[C]: in function '__index'\n\t[string \"require 'image'...\"]:3: in main chunk\n\t[C]: in function 'xpcall'\n\t...on/Developer/torch/install/share/lua/5.1/itorch/main.lua:210: in function <...on/Developer/torch/install/share/lua/5.1/itorch/main.lua:174>\n\t...on/Developer/torch/install/share/lua/5.1/lzmq/poller.lua:80: in function 'poll'\n\t...Developer/torch/install/share/lua/5.1/lzmq/impl/loop.lua:307: in function 'poll'\n\t...Developer/torch/install/share/lua/5.1/lzmq/impl/loop.lua:325: in function 'sleep_ex'\n\t...Developer/torch/install/share/lua/5.1/lzmq/impl/loop.lua:370: in function 'start'\n\t...on/Developer/torch/install/share/lua/5.1/itorch/main.lua:389: in main chunk\n\t[C]: in function 'require'\n\t(command line):1: in main chunk\n\t[C]: at 0x00405e40",
     "evalue": "",
     "output_type": "error",
     "traceback": [
      "bad argument #2 to '?' (out of range at /home/coldmoon/Developer/torch/pkg/torch/generic/Tensor.c:913)\nstack traceback:\n\t[C]: at 0x7f6dac702170\n\t[C]: in function '__index'\n\t[string \"require 'image'...\"]:3: in main chunk\n\t[C]: in function 'xpcall'\n\t...on/Developer/torch/install/share/lua/5.1/itorch/main.lua:210: in function <...on/Developer/torch/install/share/lua/5.1/itorch/main.lua:174>\n\t...on/Developer/torch/install/share/lua/5.1/lzmq/poller.lua:80: in function 'poll'\n\t...Developer/torch/install/share/lua/5.1/lzmq/impl/loop.lua:307: in function 'poll'\n\t...Developer/torch/install/share/lua/5.1/lzmq/impl/loop.lua:325: in function 'sleep_ex'\n\t...Developer/torch/install/share/lua/5.1/lzmq/impl/loop.lua:370: in function 'start'\n\t...on/Developer/torch/install/share/lua/5.1/itorch/main.lua:389: in main chunk\n\t[C]: in function 'require'\n\t(command line):1: in main chunk\n\t[C]: at 0x00405e40"
     ]
    }
   ],
   "source": [
    "require 'image'\n",
    "for i = 1, 12630 do\n",
    "    im = test_data[i]\n",
    "    im = image.rotate(im, (torch.uniform() - 0.5) * 360 * math.pi / 180, 'bilinear')\n",
    "    test_data[i] = im\n",
    "end\n",
    "    \n",
    "print('done!')\n"
   ]
  },
  {
   "cell_type": "code",
   "execution_count": 10,
   "metadata": {
    "scrolled": false
   },
   "outputs": [
    {
     "data": {
      "image/png": "[encoded data removed]",
      "text/plain": [
       "Console does not support images"
      ]
     },
     "metadata": {
      "image/png": {
       "height": 748,
       "width": 264
      }
     },
     "output_type": "display_data"
    }
   ],
   "source": [
    "im = train_data[{ {1,100}, {}, {}, {}}]\n",
    "itorch.image(im)"
   ]
  },
  {
   "cell_type": "code",
   "execution_count": 3,
   "metadata": {},
   "outputs": [
    {
     "ename": "[string \"im = test_data[{ {2,100}, {}, {}, {}}]...\"]:1: attempt to index global 'test_data' (a nil value)\nstack traceback:\n\t[string \"im = test_data[{ {2,100}, {}, {}, {}}]...\"]:1: in main chunk\n\t[C]: in function 'xpcall'\n\t...on/Developer/torch/install/share/lua/5.1/itorch/main.lua:210: in function <...on/Developer/torch/install/share/lua/5.1/itorch/main.lua:174>\n\t...on/Developer/torch/install/share/lua/5.1/lzmq/poller.lua:80: in function 'poll'\n\t...Developer/torch/install/share/lua/5.1/lzmq/impl/loop.lua:307: in function 'poll'\n\t...Developer/torch/install/share/lua/5.1/lzmq/impl/loop.lua:325: in function 'sleep_ex'\n\t...Developer/torch/install/share/lua/5.1/lzmq/impl/loop.lua:370: in function 'start'\n\t...on/Developer/torch/install/share/lua/5.1/itorch/main.lua:389: in main chunk\n\t[C]: in function 'require'\n\t(command line):1: in main chunk\n\t[C]: at 0x00405e40",
     "evalue": "",
     "output_type": "error",
     "traceback": [
      "[string \"im = test_data[{ {2,100}, {}, {}, {}}]...\"]:1: attempt to index global 'test_data' (a nil value)\nstack traceback:\n\t[string \"im = test_data[{ {2,100}, {}, {}, {}}]...\"]:1: in main chunk\n\t[C]: in function 'xpcall'\n\t...on/Developer/torch/install/share/lua/5.1/itorch/main.lua:210: in function <...on/Developer/torch/install/share/lua/5.1/itorch/main.lua:174>\n\t...on/Developer/torch/install/share/lua/5.1/lzmq/poller.lua:80: in function 'poll'\n\t...Developer/torch/install/share/lua/5.1/lzmq/impl/loop.lua:307: in function 'poll'\n\t...Developer/torch/install/share/lua/5.1/lzmq/impl/loop.lua:325: in function 'sleep_ex'\n\t...Developer/torch/install/share/lua/5.1/lzmq/impl/loop.lua:370: in function 'start'\n\t...on/Developer/torch/install/share/lua/5.1/itorch/main.lua:389: in main chunk\n\t[C]: in function 'require'\n\t(command line):1: in main chunk\n\t[C]: at 0x00405e40"
     ]
    }
   ],
   "source": [
    "im = test_data[{ {2,100}, {}, {}, {}}]\n",
    "itorch.image(im)"
   ]
  }
 ],
 "metadata": {
  "kernelspec": {
   "display_name": "iTorch",
   "language": "lua",
   "name": "itorch"
  },
  "language_info": {
   "name": "lua",
   "version": "5.1"
  }
 },
 "nbformat": 4,
 "nbformat_minor": 1
}
