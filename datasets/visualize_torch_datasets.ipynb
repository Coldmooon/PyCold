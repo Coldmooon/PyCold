{
 "cells": [
  {
   "cell_type": "code",
   "execution_count": 1,
   "metadata": {
    "collapsed": false,
    "deletable": true,
    "editable": true
   },
   "outputs": [
    {
     "data": {
      "text/plain": [
       "{\n",
       "  yuv2rgb : function: 0x41daef30\n",
       "  convolve : function: 0x40958280\n",
       "  savePNG : function: 0x41a60fd8\n",
       "  savePGM : function: 0x403e53e0\n",
       "  hflip : function: 0x40958220\n",
       "  fabio : function: 0x41daeee8\n",
       "  translate : function: 0x40958140\n",
       "  supported_filetypes : \n",
       "    {\n",
       "      pgm : \n",
       "        {\n",
       "          loader : function: 0x403e5398\n",
       "          sizer : function: 0x41daf1f0\n",
       "          saver : function: 0x403e53e0\n",
       "        }\n",
       "      JPEG : \n",
       "        {\n",
       "          loader : function: 0x41a61080\n",
       "          sizer : function: 0x41a61110\n",
       "          saver : function: 0x41a610f0\n",
       "        }\n",
       "      JPG : \n",
       "        {\n",
       "          loader : function: 0x41a61080\n",
       "          sizer : function: 0x41a61110\n",
       "          saver : function: 0x41a610f0\n",
       "        }\n",
       "      jpg : \n",
       "        {\n",
       "          loader : function: 0x41a61080\n",
       "          sizer : function: 0x41a61110\n",
       "          saver : function: 0x41a610f0\n",
       "        }\n",
       "      png : \n",
       "        {\n",
       "          loader : function: 0x41a60f50\n",
       "          sizer : function: 0x41a61040\n",
       "          saver : function: 0x41a60fd8\n",
       "        }\n",
       "      ppm : \n",
       "        {\n",
       "          loader : function: 0x403e5398\n",
       "          sizer : function: 0x41daf1f0\n",
       "          saver : function: 0x403e53c0\n",
       "        }\n",
       "      jpeg : \n",
       "        {\n",
       "          loader : function: 0x41a61080\n",
       "          sizer : function: 0x41a61110\n",
       "          saver : function: 0x41a610f0\n",
       "        }\n",
       "      PNG : \n",
       "        {\n",
       "          loader : function: 0x41a60f50\n",
       "          sizer : function: 0x41a61040\n",
       "          saver : function: 0x41a60fd8\n",
       "        }\n",
       "      PGM : \n",
       "        {\n",
       "          loader : function: 0x403e5398\n",
       "          sizer : function: 0x41daf1f0\n",
       "          saver : function: 0x403e53e0\n",
       "        }\n",
       "      PPM : \n",
       "        {\n",
       "          loader : function: 0x403e5398\n",
       "          sizer : function: 0x41daf1f0\n",
       "          saver : function: 0x403e53c0\n",
       "        }\n",
       "    }\n",
       "  lcn : function: 0x41daf170\n",
       "  getPNGsize : function: 0x41a61040\n",
       "  float : \n",
       "    {\n",
       "      scaleBicubic : function: 0x403d04a8\n",
       "      rotate : function: 0x403d0538\n",
       "      text : function: 0x41a59650\n",
       "      scaleBilinear : function: 0x403d0480\n",
       "      rotateBilinear : function: 0x403d0560\n",
       "      translate : function: 0x41dc08b0\n",
       "      drawRect : function: 0x41a59678\n",
       "      lab2rgb : function: 0x41dc07c0\n",
       "      colorize : function: 0x41a59628\n",
       "      polar : function: 0x41dc0810\n",
       "      saturate : function: 0x403d0448\n",
       "      logPolar : function: 0x41dc0860\n",
       "      hflip : function: 0x41a595d8\n",
       "      cropNoScale : function: 0x41dc08d8\n",
       "      vflip : function: 0x41a595b0\n",
       "      warp : function: 0x403d0588\n",
       "      hsv2rgb : function: 0x41dc0748\n",
       "      rgb2lab : function: 0x41dc0798\n",
       "      rgb2hsl : function: 0x403d04f8\n",
       "      hsl2rgb : function: 0x41dc0770\n",
       "      gaussian : function: 0x41dc07e8\n",
       "      rgb2hsv : function: 0x403d04d0\n",
       "      polarBilinear : function: 0x41dc0838\n",
       "      rgb2y : function: 0x41a59738\n",
       "      logPolarBilinear : function: 0x41dc0888\n",
       "      scaleSimple : function: 0x403d0420\n",
       "      flip : function: 0x41a59600\n",
       "    }\n",
       "  erode : function: 0x41daf190\n",
       "  jetColormap : function: 0x41daf150\n",
       "  polar : function: 0x409581a0\n",
       "  crop : function: 0x40958100\n",
       "  getSize : function: 0x41a4af18\n",
       "  getJPGsize : function: 0x41a61110\n",
       "  test : function: 0x403eb258\n",
       "  rgb2lab : function: 0x41daeff0\n",
       "  warp : function: 0x409581e0\n",
       "  laplacian : function: 0x41daf0f0\n",
       "  minmax : function: 0x409582a0\n",
       "  loadJPG : function: 0x41a61080\n",
       "  loadPPM : function: 0x403e5398\n",
       "  gaussian : function: 0x41daf0b0\n",
       "  gaussian1D : function: 0x41daf0d0\n",
       "  rgb2yuv : function: 0x41daef10\n",
       "  hsv2rgb : function: 0x41daefd0\n",
       "  window : function: 0x40958300\n",
       "  rgb2hsl : function: 0x41daef70\n",
       "  gaussianpyramid : function: 0x41daf110\n",
       "  rgb2nrgb : function: 0x41daf030\n",
       "  loadPNG : function: 0x41a60f50\n",
       "  double : \n",
       "    {\n",
       "      scaleBicubic : function: 0x41aa70a8\n",
       "      rotate : function: 0x41aa7048\n",
       "      text : function: 0x41dbb028\n",
       "      scaleBilinear : function: 0x41aa7080\n",
       "      rotateBilinear : function: 0x403eda90\n",
       "      translate : function: 0x41dbb0c0\n",
       "      drawRect : function: 0x41dbb050\n",
       "      lab2rgb : function: 0x41dbaf38\n",
       "      colorize : function: 0x41dbb000\n",
       "      polar : function: 0x403edb80\n",
       "      saturate : function: 0x41aa70f8\n",
       "      logPolar : functi"
      ]
     },
     "execution_count": 1,
     "metadata": {},
     "output_type": "execute_result"
    },
    {
     "data": {
      "text/plain": [
       "on: 0x403edbd0\n",
       "      hflip : function: 0x41dbafb0\n",
       "      cropNoScale : function: 0x403edc20\n",
       "      vflip : function: 0x41dbaf88\n",
       "      warp : function: 0x41aa70d0\n",
       "      hsv2rgb : function: 0x403edb08\n",
       "      rgb2lab : function: 0x403edb58\n",
       "      rgb2hsl : function: 0x403edae0\n",
       "      hsl2rgb : function: 0x403edb30\n",
       "      gaussian : function: 0x41dbaf60\n",
       "      rgb2hsv : function: 0x403edab8\n",
       "      polarBilinear : function: 0x403edba8\n",
       "      rgb2y : function: 0x41aa7120\n",
       "      logPolarBilinear : function: 0x403edbf8\n",
       "      scaleSimple : function: 0x41aa7020\n",
       "      flip : function: 0x41dbafd8\n",
       "    }\n",
       "  hsl2rgb : function: 0x41daef90\n",
       "  decompressPNG : function: 0x41a61018\n",
       "  savePPM : function: 0x403e53c0\n",
       "  compressJPG : function: 0x41a61130\n",
       "  y2jet : function: 0x41daf050\n",
       "  decompress : function: 0x403eb440\n",
       "  drawRect : function: 0x41daf090\n",
       "  rotate : function: 0x40958180\n",
       "  lab2rgb : function: 0x41daf010\n",
       "  save : function: 0x409580e0\n",
       "  drawText : function: 0x41daf070\n",
       "  rgb2y : function: 0x41daef50\n",
       "  is_supported : function: 0x41a4b1a0\n",
       "  load : function: 0x41a60e68\n",
       "  toDisplayTensor : function: 0x409582c0\n",
       "  logpolar : function: 0x409581c0\n",
       "  display : function: 0x409582e0\n",
       "  scale : function: 0x40958160\n",
       "  dilate : function: 0x41daf1b0\n",
       "  getPPMsize : function: 0x41daf1f0\n",
       "  decompressJPG : function: 0x41a610c8\n",
       "  saveJPG : function: 0x41a610f0\n",
       "  byte : \n",
       "    {\n",
       "      scaleBicubic : function: 0x403e8718\n",
       "      rotate : function: 0x403e87a8\n",
       "      text : function: 0x41038eb8\n",
       "      scaleBilinear : function: 0x403e86f0\n",
       "      rotateBilinear : function: 0x403e87d0\n",
       "      translate : function: 0x41038f00\n",
       "      drawRect : function: 0x403e5370\n",
       "      lab2rgb : function: 0x41038dc8\n",
       "      colorize : function: 0x41038e90\n",
       "      polar : function: 0x403e88c0\n",
       "      saturate : function: 0x403e87f8\n",
       "      logPolar : function: 0x403e8740\n",
       "      hflip : function: 0x41038e40\n",
       "      cropNoScale : function: 0x41038f28\n",
       "      vflip : function: 0x41038e18\n",
       "      warp : function: 0x41038f50\n",
       "      hsv2rgb : function: 0x403e8898\n",
       "      rgb2lab : function: 0x41038da0\n",
       "      rgb2hsl : function: 0x403e8870\n",
       "      hsl2rgb : function: 0x41038d78\n",
       "      gaussian : function: 0x41038df0\n",
       "      rgb2hsv : function: 0x403e8848\n",
       "      polarBilinear : function: 0x41a596f0\n",
       "      rgb2y : function: 0x403e8820\n",
       "      logPolarBilinear : function: 0x403e8768\n",
       "      scaleSimple : function: 0x41a596c8\n",
       "      flip : function: 0x41038e68\n",
       "    }\n",
       "  rgb2hsv : function: 0x41daefb0\n",
       "  vflip : function: 0x40958240\n",
       "  affinetransform : function: 0x40958200\n",
       "  lena : function: 0x41a4ae58\n",
       "  colormap : function: 0x41daf130\n",
       "  flip : function: 0x40958260\n",
       "}\n"
      ]
     },
     "execution_count": 1,
     "metadata": {},
     "output_type": "execute_result"
    }
   ],
   "source": [
    "require 'image'"
   ]
  },
  {
   "cell_type": "code",
   "execution_count": 2,
   "metadata": {
    "collapsed": true,
    "deletable": true,
    "editable": true
   },
   "outputs": [],
   "source": [
    "function load_rotated_mnist(file_name, count)\n",
    "  local loaded_data = {}\n",
    "  for line in io.lines(file_name) do\n",
    "    local chunks = {}\n",
    "    for w in line:gmatch(\"%S+\") do chunks[#chunks + 1] = tonumber(w) end\n",
    "    loaded_data[#loaded_data + 1] = chunks\n",
    "  end\n",
    "  local loaded_data = torch.Tensor(loaded_data)\n",
    "  local data = {}\n",
    "  data.data = loaded_data[{{1, count}, {1, -2}}]\n",
    "  data.labels = loaded_data[{{1, count}, {-1, -1}}]\n",
    "  local shuffled_indices = torch.randperm(data.data:size(1)):long()\n",
    "  data.data = data.data:index(1, shuffled_indices)\n",
    "  data.labels = data.labels:index(1, shuffled_indices)\n",
    "  data.labels:add(1)\n",
    "  local real_size = math.sqrt(data.data:size(2))\n",
    "  data.data = data.data:reshape(data.data:size(1), 1, real_size, real_size)\n",
    "  print('--------------------------------')\n",
    "  print('inputs', data.data:size())\n",
    "  print('targets', data.labels:size())\n",
    "  print('min target', data.labels:min())\n",
    "  print('max target', data.labels:max())\n",
    "  print('--------------------------------')\n",
    "  return data\n",
    "end"
   ]
  },
  {
   "cell_type": "code",
   "execution_count": 3,
   "metadata": {
    "collapsed": false,
    "deletable": true,
    "editable": true
   },
   "outputs": [
    {
     "data": {
      "text/plain": [
       "--------------------------------\t\n",
       "inputs\t 100\n",
       "   1\n",
       "  28\n",
       "  28\n",
       "[torch.LongStorage of size 4]\n",
       "\n",
       "targets\t 100\n",
       "   1\n",
       "[torch.LongStorage of size 2]\n",
       "\n",
       "min target\t1\t\n",
       "max target\t10\t\n",
       "--------------------------------\t\n"
      ]
     },
     "execution_count": 3,
     "metadata": {},
     "output_type": "execute_result"
    },
    {
     "data": {
      "text/plain": [
       "--------------------------------\t\n",
       "inputs\t 100\n",
       "   1\n",
       "  28\n",
       "  28\n",
       "[torch.LongStorage of size 4]\n",
       "\n",
       "targets\t 100\n",
       "   1\n",
       "[torch.LongStorage of size 2]\n",
       "\n",
       "min target\t1\t\n",
       "max target\t10\t\n",
       "--------------------------------\t\n"
      ]
     },
     "execution_count": 3,
     "metadata": {},
     "output_type": "execute_result"
    }
   ],
   "source": [
    "train_file = 'mnist_all_rotation_normalized_float_train_valid.amat'\n",
    "test_file = 'mnist_all_rotation_normalized_float_test.amat'\n",
    "train = load_rotated_mnist(train_file, 100)\n",
    "test = load_rotated_mnist(test_file, 100)\n",
    "\n",
    "train_data = train.data\n",
    "test_data = test.data"
   ]
  },
  {
   "cell_type": "code",
   "execution_count": 28,
   "metadata": {
    "collapsed": false,
    "deletable": true,
    "editable": true
   },
   "outputs": [
    {
     "data": {
      "text/plain": [
       "{\n",
       "  train : \n",
       "    {\n",
       "      data : DoubleTensor - size: 60000x1x42x42\n",
       "      labels : LongTensor - size: 60000\n",
       "    }\n",
       "  val : \n",
       "    {\n",
       "      data : DoubleTensor - size: 10000x1x42x42\n",
       "      labels : LongTensor - size: 10000\n",
       "    }\n",
       "}\n"
      ]
     },
     "execution_count": 28,
     "metadata": {},
     "output_type": "execute_result"
    }
   ],
   "source": [
    "datasets = '/home/coldmoon/Developer/fb.resnet.torch/gen/mnist42x42_train_center_test_ST_0.7_1.2.t7'\n",
    "data = torch.load(datasets)\n",
    "print(data)"
   ]
  },
  {
   "cell_type": "code",
   "execution_count": 31,
   "metadata": {
    "collapsed": false,
    "deletable": true,
    "editable": true
   },
   "outputs": [
    {
     "data": {
      "text/plain": [
       "{\n",
       "  data : DoubleTensor - size: 60000x1x42x42\n",
       "  labels : LongTensor - size: 60000\n",
       "}\n",
       "{\n",
       "  data : DoubleTensor - size: 10000x1x42x42\n",
       "  labels : LongTensor - size: 10000\n",
       "}\n"
      ]
     },
     "execution_count": 31,
     "metadata": {},
     "output_type": "execute_result"
    }
   ],
   "source": [
    "train = data['train']\n",
    "test = data['val']\n",
    "train_data = train['data']\n",
    "test_data =test['data']\n",
    "print(train)\n",
    "print(test)"
   ]
  },
  {
   "cell_type": "code",
   "execution_count": 4,
   "metadata": {
    "collapsed": false,
    "deletable": true,
    "editable": true,
    "scrolled": false
   },
   "outputs": [
    {
     "data": {
      "image/png": "[encoded data removed]",
      "text/plain": [
       "Console does not support images"
      ]
     },
     "metadata": {
      "image/png": {
       "height": 510,
       "width": 180
      }
     },
     "output_type": "display_data"
    }
   ],
   "source": [
    "im = train_data[{ {2,100}, {}, {}, {}}]\n",
    "itorch.image(im)"
   ]
  },
  {
   "cell_type": "code",
   "execution_count": 5,
   "metadata": {
    "collapsed": false,
    "deletable": true,
    "editable": true
   },
   "outputs": [
    {
     "data": {
      "image/png": "[encoded data removed]",
      "text/plain": [
       "Console does not support images"
      ]
     },
     "metadata": {
      "image/png": {
       "height": 510,
       "width": 180
      }
     },
     "output_type": "display_data"
    }
   ],
   "source": [
    "im = test_data[{ {2,100}, {}, {}, {}}]\n",
    "itorch.image(im)"
   ]
  }
 ],
 "metadata": {
  "kernelspec": {
   "display_name": "iTorch",
   "language": "lua",
   "name": "itorch"
  },
  "language_info": {
   "name": "lua",
   "version": "5.1"
  }
 },
 "nbformat": 4,
 "nbformat_minor": 0
}
